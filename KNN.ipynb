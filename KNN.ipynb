{
 "cells": [
  {
   "cell_type": "code",
   "execution_count": 1,
   "metadata": {},
   "outputs": [],
   "source": [
    "import numpy as np\n",
    "from collections import Counter \n",
    "def eucli_dis(x1,x2):\n",
    "   return np.sqrt(np.sum((x1-x2)**2))\n",
    "\n",
    "class KNN:\n",
    "   def  __init__(self,k=5):\n",
    "      self.k=k\n",
    "\n",
    "   def fit(self,X,y):\n",
    "\n",
    "    self.X_train=X\n",
    "    self.y_train=y\n",
    "   \n",
    "   def predict(self,X):\n",
    "     predicted_labels=[self._predicted(x) for x in X]\n",
    "     return np.array(predicted_labels)\n",
    "\n",
    "   def _predicted(self,x):\n",
    "     distances=[eucli_dis(x, x_train) for x_train in self.X_train ]\n",
    "     k_indis=np.argsort(distances)[:self.k]\n",
    "     k_neates=[self.y_train[i] for i in k_indis]\n",
    "\n",
    "     most_common=Counter(k_neates).most_common(1)\n",
    "     return most_common[0][0]\n"
   ]
  },
  {
   "cell_type": "code",
   "execution_count": 2,
   "metadata": {},
   "outputs": [
    {
     "name": "stdout",
     "output_type": "stream",
     "text": [
      "0.98\n"
     ]
    }
   ],
   "source": [
    "\n",
    "import numpy as np\n",
    "from sklearn import datasets\n",
    "from sklearn.model_selection import train_test_split\n",
    "import matplotlib.pyplot as plt\n",
    "from matplotlib.colors import ListedColormap\n",
    "cmap=ListedColormap(['#FF0000','#00FF00','#0000FF'])\n",
    "\n",
    "iris=datasets.load_iris()\n",
    "X,y=iris.data,iris.target\n",
    "\n",
    "X_train, X_test, y_train, y_test = train_test_split(X, y, test_size=0.33, random_state=42)\n",
    "\n",
    "\n",
    "clf=KNN(k=3)\n",
    "clf.fit(X_train,y_train)\n",
    "y_pred=clf.predict(X_test)\n",
    "\n",
    "\n",
    "acc_=np.sum(y_pred==y_test)/len(y_test)\n",
    "print(acc_)\n"
   ]
  }
 ],
 "metadata": {
  "kernelspec": {
   "display_name": "Python 3",
   "language": "python",
   "name": "python3"
  },
  "language_info": {
   "codemirror_mode": {
    "name": "ipython",
    "version": 3
   },
   "file_extension": ".py",
   "mimetype": "text/x-python",
   "name": "python",
   "nbconvert_exporter": "python",
   "pygments_lexer": "ipython3",
   "version": "3.11.4"
  },
  "orig_nbformat": 4
 },
 "nbformat": 4,
 "nbformat_minor": 2
}
