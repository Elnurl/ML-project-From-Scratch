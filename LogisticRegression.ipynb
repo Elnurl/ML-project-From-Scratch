{
 "cells": [
  {
   "cell_type": "code",
   "execution_count": 17,
   "metadata": {},
   "outputs": [],
   "source": [
    "import numpy as np\n",
    "\n",
    "\n",
    "class LocisticRehggression:\n",
    "    def __init__(self,lr=0.001,n_iters=1000):\n",
    "        self.lr=lr\n",
    "        self.n_iters=n_iters\n",
    "        self.weight=None\n",
    "        self.bias=None\n",
    "\n",
    "\n",
    "    def fit(self,X,y):\n",
    "        n_samples,n_features=X.shape\n",
    "        self.weight=np.zeros(n_features)  \n",
    "        self.bias=0\n",
    "\n",
    "        for _ in range (self.n_iters):\n",
    "            linar_model=np.dot(X,self.weight)+self.bias #<-f(x)=b+xw\n",
    "            y_pred=self.Sihgmoid(linar_model)\n",
    "\n",
    "            dw=1/(n_samples)*np.dot(X.T,(y_pred-y)) #<- update rule for weight\n",
    "            db=1/(n_samples)*np.sum(y_pred-y) # <-update rule for bias\n",
    "            self.weight-=self.lr*dw\n",
    "            self.bias-=self.lr*db\n",
    "\n",
    "    def predict(self,X):\n",
    "         linar_model=np.dot(X,self.weight)+self.bias\n",
    "         y_pred=self.Sihgmoid(linar_model)\n",
    "         y_pred_calss=[1 if i > 0.5 else 0 for i in y_pred]\n",
    "         return y_pred_calss\n",
    "\n",
    "    def Sihgmoid(self,x):\n",
    "        \n",
    "        return 1/(1+np.exp(-x)) #<- sigmoud activation function\n",
    "\n"
   ]
  },
  {
   "cell_type": "code",
   "execution_count": 18,
   "metadata": {},
   "outputs": [
    {
     "name": "stdout",
     "output_type": "stream",
     "text": [
      "0.9298245614035088\n"
     ]
    }
   ],
   "source": [
    "import numpy as np\n",
    "from sklearn import datasets\n",
    "from sklearn.model_selection import train_test_split\n",
    "import matplotlib.pyplot as plt\n",
    "\n",
    "\n",
    "bc=datasets.load_breast_cancer()\n",
    "\n",
    "X,y=bc.data,bc.target\n",
    "\n",
    "\n",
    "X_train, X_test, y_train, y_test = train_test_split(X, y, test_size=0.2, random_state=1234)\n",
    "\n",
    "def acc_(y_true,y_pred):\n",
    "    acc_=np.sum(y_true==y_pred)/len(y_true)\n",
    "    return acc_\n",
    "\n",
    "\n",
    "Lreg=LocisticRehggression(lr=0.0001,n_iters=1000)\n",
    "\n",
    "Lreg.fit(X_train,y_train)\n",
    "\n",
    "prediction=Lreg.predict(X_test)\n",
    "\n",
    "\n",
    "print(acc_(y_test,prediction))"
   ]
  },
  {
   "cell_type": "code",
   "execution_count": null,
   "metadata": {},
   "outputs": [],
   "source": []
  }
 ],
 "metadata": {
  "kernelspec": {
   "display_name": "Python 3",
   "language": "python",
   "name": "python3"
  },
  "language_info": {
   "codemirror_mode": {
    "name": "ipython",
    "version": 3
   },
   "file_extension": ".py",
   "mimetype": "text/x-python",
   "name": "python",
   "nbconvert_exporter": "python",
   "pygments_lexer": "ipython3",
   "version": "3.11.4"
  },
  "orig_nbformat": 4
 },
 "nbformat": 4,
 "nbformat_minor": 2
}
